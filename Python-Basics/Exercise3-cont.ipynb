{
 "cells": [
  {
   "cell_type": "code",
   "execution_count": 1,
   "metadata": {},
   "outputs": [
    {
     "data": {
      "text/plain": [
       "'200,202,204,206,208,220,222,224,226,228,240,242,244,246,248,260,262,264,266,268,280,282,284,286,288,400'"
      ]
     },
     "execution_count": 1,
     "metadata": {},
     "output_type": "execute_result"
    }
   ],
   "source": [
    "###1\n",
    "###Write a Python program to find numbers between 100 and 400 (both included) where each digit of a number \n",
    "###is an even number. The numbers obtained should be printed in a comma-separated sequence.\n",
    "\n",
    "list=[]\n",
    "for i in range(100,401):\n",
    "    s=str(i)\n",
    "    if int (s[0])%2==0 and int(s[1])%2==0 and int(s[2])%2==0:\n",
    "        list.append(s)\n",
    "#print(list)\n",
    "\",\".join(list)"
   ]
  },
  {
   "cell_type": "code",
   "execution_count": null,
   "metadata": {},
   "outputs": [],
   "source": [
    "###2\n",
    "###Write a Python function to find the Max of three numbers.\n",
    "\n",
    "a= int(input(\"enter the 1st number\"))\n",
    "b= int(input(\"enter the 2nd number\"))\n",
    "c= int(input(\"enter the 3rd number\"))\n",
    "\n",
    "if(a>b) and (a>c):\n",
    "    print(\"a is greater: \",a)\n",
    "elif(b>c) and (b>a):\n",
    "    print(\"b is greater: \",b)\n",
    "else:\n",
    "    print(\"c is greater: \",c)\n"
   ]
  },
  {
   "cell_type": "code",
   "execution_count": null,
   "metadata": {},
   "outputs": [],
   "source": [
    "###3 Write a Python function that accepts a string and calculate the number of \n",
    "###upper case letters and lower case letters.\n",
    "\n",
    "up=0\n",
    "low=0\n",
    "s=input(\"Enter the string:\")\n",
    "for i in s:\n",
    "    if(i.isupper()):\n",
    "        up=up+1\n",
    "    else:\n",
    "        low=low+1\n",
    "print(\"no. of upper case\",up)\n",
    "print(\"no. of lower case\",low)"
   ]
  },
  {
   "cell_type": "code",
   "execution_count": null,
   "metadata": {},
   "outputs": [],
   "source": [
    "###4. Write a Python program to reverse a string.\n",
    "\n",
    "s=input(\"Enter the String\")\n",
    "print(\"The reveresed string is: \",s[::-1])"
   ]
  },
  {
   "cell_type": "code",
   "execution_count": null,
   "metadata": {},
   "outputs": [],
   "source": [
    "###5:\n",
    "###Write a Python program to count the number of even and odd numbers from a series of numbers\n",
    "\n",
    "even=0\n",
    "odd=0\n",
    "for i in range(1,10):\n",
    "    #print(i) #Range will always exclude the last value\n",
    "    if(i%2==0):\n",
    "        even=even+1\n",
    "    else:\n",
    "        odd=odd+1\n",
    "print(\"Number of even numbers: \",even)\n",
    "print(\"Number of odd numbers: \",odd)"
   ]
  },
  {
   "cell_type": "code",
   "execution_count": null,
   "metadata": {},
   "outputs": [],
   "source": [
    "###6:\n",
    "###Write a Python program to find those numbers which are divisible by 7 and multiple of 5,\n",
    "###between 1500 and 2700 (both included)\n",
    "\n",
    "for i in range(1500,2705,5):\n",
    "  #  if(i%5==0):\n",
    "        #print(i)\n",
    "    if(i%7==0):\n",
    "        print(i)"
   ]
  },
  {
   "cell_type": "code",
   "execution_count": null,
   "metadata": {},
   "outputs": [],
   "source": [
    "###7. Write a Python program to construct the following pattern, using a nested for loop\n",
    "s=6\n",
    "for i in range(0,s):\n",
    "    for j in range(0,i+1):\n",
    "         print('*',end =\" \")\n",
    "    print()\n",
    "---#######having doubt"
   ]
  },
  {
   "cell_type": "code",
   "execution_count": null,
   "metadata": {},
   "outputs": [],
   "source": [
    "###8. Write a Python program to calculate a dog's age in dog's years. Go to the editor\n",
    "###Note: For the first two years, a dog year is equal to 10.5 human years. After that, each dog year equals 4 human years."
   ]
  },
  {
   "cell_type": "code",
   "execution_count": 22,
   "metadata": {},
   "outputs": [
    {
     "name": "stdout",
     "output_type": "stream",
     "text": [
      "Enter a number: 99\n",
      "no. is  prime\n"
     ]
    }
   ],
   "source": [
    "# 9. Write a Python function that takes a number as a parameter and check the number is prime or not.\n",
    "\n",
    "n= int(input(\"Enter a number: \"))\n",
    "#print(\"the no. is: \",n)\n",
    "if(n>1):\n",
    "    for i in range(2,n):\n",
    "        if(n%i)==0:\n",
    "            print(\"no. is nt  prime\")\n",
    "        else:\n",
    "            print(\"no. is  prime\")\n",
    "        break        "
   ]
  },
  {
   "cell_type": "code",
   "execution_count": 35,
   "metadata": {},
   "outputs": [
    {
     "name": "stdout",
     "output_type": "stream",
     "text": [
      "Enter a number: 99\n",
      "99 is a prime number\n",
      "99 is not a prime number\n",
      "3 times 33 is 99\n"
     ]
    }
   ],
   "source": [
    "# To take input from the user\n",
    "num = int(input(\"Enter a number: \"))\n",
    "\n",
    "# prime numbers are greater than 1\n",
    "if num > 1:\n",
    "   # check for factors\n",
    "   for i in range(2,num):\n",
    "    if (num % i) == 0:\n",
    "        print(num,\"is not a prime number\")\n",
    "        print(i,\"times\",num//i,\"is\",num)\n",
    "        break\n",
    "    else:\n",
    "        print(num,\"is a prime number\") \n",
    "else:\n",
    "    print(num,\"is not a prime number\")"
   ]
  },
  {
   "cell_type": "code",
   "execution_count": null,
   "metadata": {},
   "outputs": [],
   "source": [
    "###10. Write a Python program to find the greatest common divisor (gcd) of two integers"
   ]
  }
 ],
 "metadata": {
  "kernelspec": {
   "display_name": "Python 3",
   "language": "python",
   "name": "python3"
  },
  "language_info": {
   "codemirror_mode": {
    "name": "ipython",
    "version": 3
   },
   "file_extension": ".py",
   "mimetype": "text/x-python",
   "name": "python",
   "nbconvert_exporter": "python",
   "pygments_lexer": "ipython3",
   "version": "3.7.6"
  }
 },
 "nbformat": 4,
 "nbformat_minor": 4
}
