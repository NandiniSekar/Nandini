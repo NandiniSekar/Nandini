{
 "cells": [
  {
   "cell_type": "code",
   "execution_count": null,
   "metadata": {},
   "outputs": [],
   "source": [
    "###Python_Day2###"
   ]
  },
  {
   "cell_type": "code",
   "execution_count": null,
   "metadata": {},
   "outputs": [],
   "source": [
    "##Exercise Question 1: Given an input list removes the element at index 4 and add it to the 2nd position \n",
    "and also, at the end of the list\n",
    "\n",
    "For example: List = [54, 44, 27, 79, 91, 41]\n",
    "\n",
    "##Expected Output:\n",
    "Original list  [34, 54, 67, 89, 11, 43, 94]\n",
    "List After removing element at index 4  [34, 54, 67, 89, 43, 94]\n",
    "List after Adding element at index 2  [34, 54, 11, 67, 89, 43, 94]\n",
    "List after Adding element at last  [34, 54, 11, 67, 89, 43, 94, 11]"
   ]
  },
  {
   "cell_type": "code",
   "execution_count": 36,
   "metadata": {},
   "outputs": [
    {
     "name": "stdout",
     "output_type": "stream",
     "text": [
      "Original list [34, 54, 67, 89, 11, 43, 94]\n",
      "List After removing element at index 4 [34, 54, 67, 89, 43, 94]\n",
      "List after Adding element at index 2 [34, 54, 11, 67, 89, 43, 94]\n",
      "List after Adding element at last [34, 54, 11, 67, 89, 43, 94, 11]\n"
     ]
    },
    {
     "data": {
      "text/plain": [
       "[34, 54, 11, 67, 89, 43, 94, 11]"
      ]
     },
     "execution_count": 36,
     "metadata": {},
     "output_type": "execute_result"
    }
   ],
   "source": [
    "L1=[34, 54, 67, 89, 11, 43, 94]\n",
    "print(\"Original list\",L1)\n",
    "element=L1[4]\n",
    "#print(element)\n",
    "L1.remove(element)\n",
    "print(\"List After removing element at index 4\", L1)\n",
    "L1.insert(2,element)\n",
    "print(\"List after Adding element at index 2\", L1)\n",
    "L1.append(element)\n",
    "print(\"List after Adding element at last\", L1)\n",
    "L1"
   ]
  },
  {
   "cell_type": "code",
   "execution_count": null,
   "metadata": {},
   "outputs": [],
   "source": [
    "##Exercise Question 2: Given a two list of equal size create a list of unique elements\n",
    "from both the lists into a seperate list\n",
    "\n",
    "##Sample OUtput:\n",
    "First List  [2, 3, 4, 5, 6, 7, 8]\n",
    "Second List  [4, 9, 16, 25, 36, 49, 64]\n",
    "[64, 2, 3, 4, 5, 6, 7, 8, 9, 36, 16, 49, 25]"
   ]
  },
  {
   "cell_type": "code",
   "execution_count": 52,
   "metadata": {},
   "outputs": [
    {
     "name": "stdout",
     "output_type": "stream",
     "text": [
      "First List [2, 3, 4, 5, 6, 7, 8]\n",
      "Second List [4, 9, 16, 25, 36, 49, 64]\n"
     ]
    },
    {
     "data": {
      "text/plain": [
       "[64, 2, 3, 4, 5, 6, 7, 8, 9, 36, 16, 49, 25]"
      ]
     },
     "execution_count": 52,
     "metadata": {},
     "output_type": "execute_result"
    }
   ],
   "source": [
    "L1 = [2, 3, 4, 5, 6, 7, 8]\n",
    "L2 = [4, 9, 16, 25, 36, 49, 64]\n",
    "print(\"First List\", L1)\n",
    "print(\"Second List\", L2)\n",
    "L1.extend(L2)\n",
    "L1\n",
    "L2=set(L1)\n",
    "L2\n",
    "type(L2)\n",
    "L3=list(L2)\n",
    "L3"
   ]
  },
  {
   "cell_type": "code",
   "execution_count": null,
   "metadata": {},
   "outputs": [],
   "source": [
    "###Exercise Question 3: Remove duplicate from a list and create a tuple and find the minimum and maximum \n",
    "#number (Hint: Try Functions Min() and Max() )\n",
    "\n",
    "##Sample Output:\n",
    "Original list [87, 52, 44, 53, 54, 87, 52, 53]\n",
    "unique list [44, 52, 53, 54, 87]\n",
    "tuple  (44, 52, 53, 54, 87)\n",
    "Minimum number is:  44\n",
    "Maximum number is:  87"
   ]
  },
  {
   "cell_type": "code",
   "execution_count": 69,
   "metadata": {},
   "outputs": [
    {
     "name": "stdout",
     "output_type": "stream",
     "text": [
      "Original list  [87, 52, 44, 53, 54, 87, 52, 53]\n",
      "unique list  [44, 52, 53, 54, 87]\n",
      "Minimum number is: 44\n",
      "Maximum number is: 87\n"
     ]
    }
   ],
   "source": [
    "L1 = [87, 52, 44, 53, 54, 87, 52, 53]\n",
    "print(\"Original list \",L1)\n",
    "L2=set(L1)\n",
    "type(L2)\n",
    "L3=list(L2)\n",
    "print(\"unique list \",L3)\n",
    "T1=tuple(L2)\n",
    "#type(T1)\n",
    "print(\"Minimum number is:\",min(T1))\n",
    "print(\"Maximum number is:\",max(T1))"
   ]
  },
  {
   "cell_type": "code",
   "execution_count": null,
   "metadata": {},
   "outputs": [],
   "source": [
    "###Exercise Question 4: Display the each word in the string Count the number of words in a\n",
    "string and display it (Including the white spaces)\n",
    "\n",
    "###Sample oUtput:\n",
    "#Printing each words seperately \n",
    "a = \"what's up?\"\n",
    "print(*a)\n",
    "\n",
    "w h a t ' s   u p ?\n",
    "\n",
    "The sample string: Welcome to Python\n",
    "Printing each words seperately:  W e l c o m e   t o   P y t h o n\n",
    "The Length of the string 17"
   ]
  },
  {
   "cell_type": "code",
   "execution_count": 73,
   "metadata": {},
   "outputs": [
    {
     "name": "stdout",
     "output_type": "stream",
     "text": [
      "The sample string: Welcome to Python\n",
      "Printing each words seperately: W e l c o m e   t o   P y t h o n\n",
      "The Length of the string 17\n"
     ]
    }
   ],
   "source": [
    "S1=\"Welcome to Python\"\n",
    "print(\"The sample string:\", S1)\n",
    "print(\"Printing each words seperately:\", (*S1))\n",
    "print(\"The Length of the string\",len(S1))"
   ]
  },
  {
   "cell_type": "code",
   "execution_count": null,
   "metadata": {},
   "outputs": [],
   "source": [
    "###Exercise Question 5: \n",
    "Write a Python program to access dictionary keys element by index. \n",
    "i.e. Use indexing methods to print the first key\n",
    "\n",
    "###Sample_Output:\n",
    "The dictionary is:  {'physics': 80, 'math': 90, 'chemistry': 86}\n",
    "The key element accesed by index:  physics"
   ]
  },
  {
   "cell_type": "code",
   "execution_count": 94,
   "metadata": {},
   "outputs": [
    {
     "name": "stdout",
     "output_type": "stream",
     "text": [
      "The dictionary is: {'physics': 80, 'math': 90, 'chemistry': 86}\n",
      "The key element accesed by index:  physics\n"
     ]
    }
   ],
   "source": [
    "D1 = {'physics': 80, 'math': 90, 'chemistry': 86}\n",
    "print(\"The dictionary is:\", D1)\n",
    "L1=list(D1)\n",
    "print(\"The key element accesed by index: \",L1[0])"
   ]
  },
  {
   "cell_type": "code",
   "execution_count": null,
   "metadata": {},
   "outputs": [],
   "source": []
  }
 ],
 "metadata": {
  "kernelspec": {
   "display_name": "Python 3",
   "language": "python",
   "name": "python3"
  },
  "language_info": {
   "codemirror_mode": {
    "name": "ipython",
    "version": 3
   },
   "file_extension": ".py",
   "mimetype": "text/x-python",
   "name": "python",
   "nbconvert_exporter": "python",
   "pygments_lexer": "ipython3",
   "version": "3.7.6"
  }
 },
 "nbformat": 4,
 "nbformat_minor": 4
}
