{
 "cells": [
  {
   "cell_type": "code",
   "execution_count": 1,
   "metadata": {},
   "outputs": [
    {
     "name": "stdout",
     "output_type": "stream",
     "text": [
      "[1 2 3]\n"
     ]
    }
   ],
   "source": [
    "import numpy as np\n",
    "arr=np.array([1,2,3])\n",
    "print(arr)"
   ]
  },
  {
   "cell_type": "markdown",
   "metadata": {},
   "source": [
    "# Exercise 1: NumPy: Create an array with values ranging from 12 to 38\n",
    "\n",
    "[12 13 14 15 16 17 18 19 20 21 22 23 24 25 26 27 28 29 30 31 32 33 34 35\n",
    " 36 37]"
   ]
  },
  {
   "cell_type": "code",
   "execution_count": 2,
   "metadata": {},
   "outputs": [
    {
     "name": "stdout",
     "output_type": "stream",
     "text": [
      "[12 13 14 15 16 17 18 19 20 21 22 23 24 25 26 27 28 29 30 31 32 33 34 35\n",
      " 36 37]\n"
     ]
    }
   ],
   "source": [
    "arr=np.array(range(12,38,1))\n",
    "print(arr)"
   ]
  },
  {
   "cell_type": "markdown",
   "metadata": {},
   "source": [
    "# Exercise 2: Add a border around an existing array\n",
    "Hint: np.pad()\n",
    "Original array:\n",
    "[[1. 1. 1.]\n",
    " [1. 1. 1.]\n",
    " [1. 1. 1.]]\n",
    "0 on the border and 1 inside in the array\n",
    "[[0. 0. 0. 0. 0.]\n",
    " [0. 1. 1. 1. 0.]\n",
    " [0. 1. 1. 1. 0.]\n",
    " [0. 1. 1. 1. 0.]\n",
    " [0. 0. 0. 0. 0.]]"
   ]
  },
  {
   "cell_type": "code",
   "execution_count": 3,
   "metadata": {},
   "outputs": [
    {
     "name": "stdout",
     "output_type": "stream",
     "text": [
      "Original array:\n",
      "[[1. 1. 1.]\n",
      " [1. 1. 1.]\n",
      " [1. 1. 1.]]\n",
      "0 on the border and 1 inside in the array\n",
      "[[0. 0. 0. 0. 0.]\n",
      " [0. 1. 1. 1. 0.]\n",
      " [0. 1. 1. 1. 0.]\n",
      " [0. 1. 1. 1. 0.]\n",
      " [0. 0. 0. 0. 0.]]\n"
     ]
    }
   ],
   "source": [
    "x=np.ones((3,3))\n",
    "print(\"Original array:\")\n",
    "print(x)\n",
    "print(\"0 on the border and 1 inside in the array\")\n",
    "y=np.pad(x,pad_width=1,mode='constant',constant_values=0)\n",
    "print(y)"
   ]
  },
  {
   "cell_type": "markdown",
   "metadata": {},
   "source": [
    "# Exercise 3: Convert a list and tuple into arrays\n",
    "List to array: \n",
    "[1 2 3 4 5 6 7 8]\n",
    "Tuple to array: \n",
    "[[8 4 6]\n",
    " [1 2 3]]\n",
    "Also try np.asarray for the problem above!"
   ]
  },
  {
   "cell_type": "code",
   "execution_count": 4,
   "metadata": {},
   "outputs": [
    {
     "name": "stdout",
     "output_type": "stream",
     "text": [
      "List is [1, 2, 3, 4, 5, 6, 7, 8]\n",
      "List to array is [1 2 3 4 5 6 7 8]\n",
      "Tuple is ((8, 4, 6), (1, 2, 3))\n",
      "Tuple to array is\n",
      "[[8 4 6]\n",
      " [1 2 3]]\n"
     ]
    }
   ],
   "source": [
    "l1 =[1,2,3,4,5,6,7,8]\n",
    "#print(type(l1))\n",
    "print(\"List is\", l1)\n",
    "l2=np.asarray(l1)\n",
    "#print(type(l2))\n",
    "print(\"List to array is\", l2)\n",
    "t1=((8,4,6),(1,2,3))\n",
    "#print(type(t1))\n",
    "print(\"Tuple is\", t1)\n",
    "t2=np.asarray(t1)\n",
    "#print(type(t2))\n",
    "print(\"Tuple to array is\")\n",
    "print(t2)"
   ]
  },
  {
   "cell_type": "markdown",
   "metadata": {},
   "source": [
    "# Exercise 4: Convert the values of Centigrade degrees into Fahrenheit degrees\n",
    "\n",
    "Values in Fahrenheit degrees:\n",
    "[ 0.   12.   45.21 34.   99.91]\n",
    "Values in  Centigrade degrees:\n",
    "[-17.77777778 -11.11111111   7.33888889   1.11111111  37.72777778]"
   ]
  },
  {
   "cell_type": "code",
   "execution_count": 5,
   "metadata": {},
   "outputs": [
    {
     "name": "stdout",
     "output_type": "stream",
     "text": [
      "Values in Farenheit Degrees\n",
      " [ 0.   12.   45.21 34.   99.91]\n",
      "Values in Centigrade Degrees\n",
      " [-17.77777778 -11.11111111   7.33888889   1.11111111  37.72777778]\n"
     ]
    }
   ],
   "source": [
    "Farenheit=np.array([0,12,45.21,34,99.91])\n",
    "print(\"Values in Farenheit Degrees\\n\",Farenheit)\n",
    "Centigrade=(Farenheit - 32)*5/9\n",
    "print(\"Values in Centigrade Degrees\\n\",Centigrade)"
   ]
  },
  {
   "cell_type": "markdown",
   "metadata": {},
   "source": [
    "# Exercise 5: Write a NumPy program to find the number of elements of an array, length of one array element in bytes and total bytes consumed by the elements.\n",
    "\n",
    "Size of the array:  3\n",
    "Length of one array element in bytes:  8\n",
    "Total bytes consumed by the elements of the array:  24"
   ]
  },
  {
   "cell_type": "code",
   "execution_count": 6,
   "metadata": {},
   "outputs": [
    {
     "name": "stdout",
     "output_type": "stream",
     "text": [
      "Size of the array:\n",
      " 5\n",
      "Length of one array element in bytes:\n",
      " 4\n",
      "Total bytes consumed by the elements of the array:\n",
      " 20\n"
     ]
    }
   ],
   "source": [
    "arr=np.array([1,2,3,4,5])\n",
    "s=arr.size\n",
    "#s=len(arr)\n",
    "print(\"Size of the array:\\n\",s)\n",
    "print(\"Length of one array element in bytes:\\n\",arr.itemsize)\n",
    "i=arr.itemsize\n",
    "ans=s*i\n",
    "print(\"Total bytes consumed by the elements of the array:\\n\",ans)"
   ]
  },
  {
   "cell_type": "markdown",
   "metadata": {},
   "source": [
    "# Exercise 6: Get the unique elements of an array\n",
    "\n",
    "Original array:\n",
    "[10 10 20 20 30 30]\n",
    "Unique elements of the above array:\n",
    "[10 20 30]\n",
    "Original array:\n",
    "[[1 1]\n",
    " [2 3]]\n",
    "Unique elements of the above array:\n",
    "[1 2 3]"
   ]
  },
  {
   "cell_type": "code",
   "execution_count": 7,
   "metadata": {},
   "outputs": [
    {
     "name": "stdout",
     "output_type": "stream",
     "text": [
      "Original array:\n",
      " [10 10 20 20 30 30]\n",
      "Unique elements of the above array:\n",
      " [10 20 30]\n",
      "Original array:\n",
      " [[1 1]\n",
      " [2 3]]\n",
      "Unique elements of the above array:\n",
      " [1 2 3]\n"
     ]
    }
   ],
   "source": [
    "arr1=np.array([10,10,20,20,30,30])\n",
    "print(\"Original array:\\n\",arr1)\n",
    "arr2=np.unique(arr1)\n",
    "print(\"Unique elements of the above array:\\n\",arr2)\n",
    "arr3=np.array(([1,1],[2,3]))\n",
    "print(\"Original array:\\n\",arr3)\n",
    "arr4=np.unique(arr3)\n",
    "print(\"Unique elements of the above array:\\n\",arr4)"
   ]
  },
  {
   "cell_type": "markdown",
   "metadata": {},
   "source": [
    "# Exercise 7: Change the dimension of an array\n",
    "\n",
    "Original array: [1 2 3 4 5 6 7 8 9]\n",
    "Change array shape to (3, 3) -> 3 rows and 3 columns \n",
    "[[1 2 3]\n",
    " [4 5 6]\n",
    " [7 8 9]]"
   ]
  },
  {
   "cell_type": "code",
   "execution_count": 8,
   "metadata": {},
   "outputs": [
    {
     "name": "stdout",
     "output_type": "stream",
     "text": [
      "Original array:\n",
      " [1 2 3 4 5]\n",
      "Reshaped array:\n",
      " [[1 2 3]\n",
      " [4 5 6]\n",
      " [7 8 9]]\n"
     ]
    }
   ],
   "source": [
    "arr1=np.array([1,2,3,4,5,6,7,8,9])\n",
    "print(\"Original array:\\n\",arr)\n",
    "arr2=arr1.reshape(3,3)\n",
    "print(\"Reshaped array:\\n\",arr2)"
   ]
  },
  {
   "cell_type": "markdown",
   "metadata": {},
   "source": [
    "# Exercise 8: Create a 1-D array of 30 evenly spaced elements between 2.5. and 6.5, inclusive\n",
    "\n",
    "[2.5        2.63793103 2.77586207 2.9137931  3.05172414 3.18965517\n",
    " 3.32758621 3.46551724 3.60344828 3.74137931 3.87931034 4.01724138\n",
    " 4.15517241 4.29310345 4.43103448 4.56896552 4.70689655 4.84482759\n",
    " 4.98275862 5.12068966 5.25862069 5.39655172 5.53448276 5.67241379\n",
    " 5.81034483 5.94827586 6.0862069  6.22413793 6.36206897 6.5       ]"
   ]
  },
  {
   "cell_type": "code",
   "execution_count": 9,
   "metadata": {},
   "outputs": [
    {
     "name": "stdout",
     "output_type": "stream",
     "text": [
      "Elements are:\n",
      " [2.5        2.63793103 2.77586207 2.9137931  3.05172414 3.18965517\n",
      " 3.32758621 3.46551724 3.60344828 3.74137931 3.87931034 4.01724138\n",
      " 4.15517241 4.29310345 4.43103448 4.56896552 4.70689655 4.84482759\n",
      " 4.98275862 5.12068966 5.25862069 5.39655172 5.53448276 5.67241379\n",
      " 5.81034483 5.94827586 6.0862069  6.22413793 6.36206897 6.5       ]\n"
     ]
    }
   ],
   "source": [
    "arr=np.linspace(2.5,6.5,30)\n",
    "print(\"Elements are:\\n\",arr)"
   ]
  },
  {
   "cell_type": "markdown",
   "metadata": {},
   "source": [
    "# Convert 1-D arrays as columns into a 2-D array\n",
    "\n",
    "Array1: [10 20 30]\n",
    "Array2: [40 50 60]\n",
    "Converted array\n",
    "[[10 40]\n",
    " [20 50]\n",
    " [30 60]]"
   ]
  },
  {
   "cell_type": "code",
   "execution_count": 10,
   "metadata": {},
   "outputs": [
    {
     "name": "stdout",
     "output_type": "stream",
     "text": [
      "Original array is\n",
      " [[10 20 30]\n",
      " [40 50 60]]\n",
      "[[10 40]\n",
      " [20 50]\n",
      " [30 60]]\n"
     ]
    }
   ],
   "source": [
    "arr1=np.array(([10,20,30],[40,50,60]))\n",
    "print(\"Original array is\\n\", arr1)\n",
    "arr2=arr1.transpose()\n",
    "print(arr2)\n",
    "#s=np.shape(arr2)\n",
    "#print(s)\n"
   ]
  },
  {
   "cell_type": "markdown",
   "metadata": {},
   "source": [
    "# Exercise 10: Create a 5x5 matrix with row values ranging from 0 to 4\n",
    "\n",
    "Original array:\n",
    "[[0. 0. 0. 0. 0.]\n",
    " [0. 0. 0. 0. 0.]\n",
    " [0. 0. 0. 0. 0.]\n",
    " [0. 0. 0. 0. 0.]\n",
    " [0. 0. 0. 0. 0.]]\n",
    "Row values ranging from 0 to 4.\n",
    "[[0. 1. 2. 3. 4.]\n",
    " [0. 1. 2. 3. 4.]\n",
    " [0. 1. 2. 3. 4.]\n",
    " [0. 1. 2. 3. 4.]\n",
    " [0. 1. 2. 3. 4.]]"
   ]
  },
  {
   "cell_type": "raw",
   "metadata": {},
   "source": [
    "arr1=np.zeros(5,5)\n",
    "print(arr1)"
   ]
  }
 ],
 "metadata": {
  "kernelspec": {
   "display_name": "Python 3",
   "language": "python",
   "name": "python3"
  },
  "language_info": {
   "codemirror_mode": {
    "name": "ipython",
    "version": 3
   },
   "file_extension": ".py",
   "mimetype": "text/x-python",
   "name": "python",
   "nbconvert_exporter": "python",
   "pygments_lexer": "ipython3",
   "version": "3.7.6"
  }
 },
 "nbformat": 4,
 "nbformat_minor": 4
}
