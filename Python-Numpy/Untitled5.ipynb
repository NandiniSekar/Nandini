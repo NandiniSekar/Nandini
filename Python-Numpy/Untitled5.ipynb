{
 "cells": [
  {
   "cell_type": "markdown",
   "metadata": {},
   "source": [
    "# Exercise 10: Create a 5x5 matrix with row values ranging from 0 to 4\n",
    "*******************************DOUBT******************************\n",
    "Original array:\n",
    "[[0. 0. 0. 0. 0.]\n",
    " [0. 0. 0. 0. 0.]\n",
    " [0. 0. 0. 0. 0.]\n",
    " [0. 0. 0. 0. 0.]\n",
    " [0. 0. 0. 0. 0.]]\n",
    "Row values ranging from 0 to 4.\n",
    "[[0. 1. 2. 3. 4.]\n",
    " [0. 1. 2. 3. 4.]\n",
    " [0. 1. 2. 3. 4.]\n",
    " [0. 1. 2. 3. 4.]\n",
    " [0. 1. 2. 3. 4.]]"
   ]
  },
  {
   "cell_type": "code",
   "execution_count": 1,
   "metadata": {},
   "outputs": [
    {
     "name": "stdout",
     "output_type": "stream",
     "text": [
      "[[0. 0. 0. 0. 0.]\n",
      " [0. 0. 0. 0. 0.]\n",
      " [0. 0. 0. 0. 0.]\n",
      " [0. 0. 0. 0. 0.]\n",
      " [0. 0. 0. 0. 0.]]\n"
     ]
    },
    {
     "ename": "NameError",
     "evalue": "name 'arr2' is not defined",
     "output_type": "error",
     "traceback": [
      "\u001b[1;31m---------------------------------------------------------------------------\u001b[0m",
      "\u001b[1;31mNameError\u001b[0m                                 Traceback (most recent call last)",
      "\u001b[1;32m<ipython-input-1-849c1f90c18b>\u001b[0m in \u001b[0;36m<module>\u001b[1;34m\u001b[0m\n\u001b[0;32m      2\u001b[0m \u001b[0marr1\u001b[0m\u001b[1;33m=\u001b[0m\u001b[0mnp\u001b[0m\u001b[1;33m.\u001b[0m\u001b[0mzeros\u001b[0m\u001b[1;33m(\u001b[0m\u001b[1;33m(\u001b[0m\u001b[1;36m5\u001b[0m\u001b[1;33m,\u001b[0m\u001b[1;36m5\u001b[0m\u001b[1;33m)\u001b[0m\u001b[1;33m)\u001b[0m\u001b[1;33m\u001b[0m\u001b[1;33m\u001b[0m\u001b[0m\n\u001b[0;32m      3\u001b[0m \u001b[0mprint\u001b[0m\u001b[1;33m(\u001b[0m\u001b[0marr1\u001b[0m\u001b[1;33m)\u001b[0m\u001b[1;33m\u001b[0m\u001b[1;33m\u001b[0m\u001b[0m\n\u001b[1;32m----> 4\u001b[1;33m \u001b[0marr2\u001b[0m\u001b[1;33m+=\u001b[0m\u001b[0mnp\u001b[0m\u001b[1;33m.\u001b[0m\u001b[0marange\u001b[0m\u001b[1;33m(\u001b[0m\u001b[1;36m5\u001b[0m\u001b[1;33m)\u001b[0m\u001b[1;33m\u001b[0m\u001b[1;33m\u001b[0m\u001b[0m\n\u001b[0m\u001b[0;32m      5\u001b[0m \u001b[0mprint\u001b[0m\u001b[1;33m(\u001b[0m\u001b[0marr2\u001b[0m\u001b[1;33m)\u001b[0m\u001b[1;33m\u001b[0m\u001b[1;33m\u001b[0m\u001b[0m\n",
      "\u001b[1;31mNameError\u001b[0m: name 'arr2' is not defined"
     ]
    }
   ],
   "source": [
    "import numpy as np\n",
    "arr1=np.zeros((5,5))\n",
    "print(arr1)\n",
    "arr2+=np.arange(5)\n",
    "print(arr2)"
   ]
  },
  {
   "cell_type": "markdown",
   "metadata": {},
   "source": [
    "# Exercise 11: Sum of all the multiples of 3 or 5 below 100\n",
    "[ 3  5  6  9 10 12 15 18 20 21 24 25 27 30 33 35 36 39 40 42 45 48 50 51\n",
    " 54 55 57 60 63 65 66 69 70 72 75 78 80 81 84 85 87 90 93 95 96 99]\n",
    "2318"
   ]
  },
  {
   "cell_type": "code",
   "execution_count": null,
   "metadata": {},
   "outputs": [],
   "source": [
    "sum=0\n",
    "l1=[]\n",
    "arr1=np.arange(1,100,1)\n",
    "#print(arr1)\n",
    "for i in arr1:\n",
    "    if((i%3==0) or (i%5==0)):\n",
    "        l1.append(i)\n",
    "        sum=sum+i\n",
    "print(\"The numbers are\\n\",l1)\n",
    "print(\"The ans is:\\n\",sum)\n",
    "        "
   ]
  },
  {
   "cell_type": "markdown",
   "metadata": {},
   "source": [
    "# Exercise 12: Combine a one and a two dimensional array together and display their elements\n",
    "************doubt******************\n",
    "Hint : np.nditer()\n",
    "x = np.arange(4)\n",
    "y = np.arange(4)\n",
    "for a, b in np.nditer([x,y]):\n",
    "    print(a)\n",
    "    print(b)\n",
    "0\n",
    "0\n",
    "1\n",
    "1\n",
    "2\n",
    "2\n",
    "3\n",
    "3\n",
    ":::::::\n",
    "One dimensional array:\n",
    "[0 1 2 3]\n",
    "Two dimensional array:\n",
    "[[0 1 2 3]\n",
    " [4 5 6 7]]\n",
    "0:0\n",
    "1:1\n",
    "2:2\n",
    "3:3\n",
    "0:4\n",
    "1:5\n",
    "2:6\n",
    "3:7"
   ]
  },
  {
   "cell_type": "markdown",
   "metadata": {},
   "source": [
    "# Exercise 13: Write a NumPy program to replace all elements of NumPy array that are greater than specified array.\n",
    "\n",
    "Original array:\n",
    "[[0.42436315 0.48558583 0.32924763]\n",
    " [0.7439979  0.58220701 0.38213418]\n",
    " [0.5097581  0.34528799 0.1563123 ]]\n",
    "Replace all elements of the said array with .5 which are greater than .5\n",
    "[[0.42436315 0.48558583 0.32924763]\n",
    " [0.5        0.5        0.38213418]\n",
    " [0.5        0.34528799 0.1563123 ]]"
   ]
  },
  {
   "cell_type": "code",
   "execution_count": 3,
   "metadata": {},
   "outputs": [
    {
     "name": "stdout",
     "output_type": "stream",
     "text": [
      "Original array:\n",
      "\n",
      " [[0.42436315 0.48558583 0.32924763]\n",
      " [0.7439979  0.58220701 0.38213418]\n",
      " [0.5097581  0.34528799 0.1563123 ]]\n",
      "\n",
      "Enter the element to search:\n",
      "0.1563123\n",
      "Enter the element to replace:\n",
      "99.000\n",
      "\n",
      "Replaced final array\n",
      "\n",
      " [[ 0.42436315  0.48558583  0.32924763]\n",
      " [ 0.7439979   0.58220701  0.38213418]\n",
      " [ 0.5097581   0.34528799 99.        ]]\n"
     ]
    }
   ],
   "source": [
    "arr1=np.array([[0.42436315, 0.48558583, 0.32924763],[0.7439979, 0.58220701, 0.38213418],[0.5097581,0.34528799,0.1563123]])\n",
    "print(\"Original array:\\n\\n\",arr1)\n",
    "#print(arr1)\n",
    "search=float(input(\"\\nEnter the element to search:\\n\"))\n",
    "replace=float(input(\"Enter the element to replace:\\n\"))\n",
    "arr1[arr1==search]=replace\n",
    "print(\"\\nReplaced final array\\n\\n\",arr1)"
   ]
  },
  {
   "cell_type": "markdown",
   "metadata": {},
   "source": [
    "# Exercise 14: Add a new row to an empty numpy array\n",
    "\n",
    "Empty array:\n",
    "[]\n",
    "After adding two new arrays:\n",
    "[[10 20 30]\n",
    " [40 50 60]]"
   ]
  },
  {
   "cell_type": "code",
   "execution_count": 21,
   "metadata": {},
   "outputs": [
    {
     "name": "stdout",
     "output_type": "stream",
     "text": [
      "Empty array:\n",
      " []\n",
      "After adding two new arrays:\n",
      " [10. 20. 30.]\n"
     ]
    }
   ],
   "source": [
    "l1=[]\n",
    "arr1=np.array(l1)\n",
    "print(\"Empty array:\\n\",arr1)\n",
    "arr1=np.append(arr1,[10,20,30])\n",
    "print(\"After adding two new arrays:\\n\",arr2)"
   ]
  }
 ],
 "metadata": {
  "kernelspec": {
   "display_name": "Python 3",
   "language": "python",
   "name": "python3"
  },
  "language_info": {
   "codemirror_mode": {
    "name": "ipython",
    "version": 3
   },
   "file_extension": ".py",
   "mimetype": "text/x-python",
   "name": "python",
   "nbconvert_exporter": "python",
   "pygments_lexer": "ipython3",
   "version": "3.7.6"
  }
 },
 "nbformat": 4,
 "nbformat_minor": 4
}
